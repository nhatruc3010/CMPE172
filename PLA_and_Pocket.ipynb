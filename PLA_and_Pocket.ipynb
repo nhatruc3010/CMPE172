{
  "nbformat": 4,
  "nbformat_minor": 0,
  "metadata": {
    "colab": {
      "provenance": [],
      "authorship_tag": "ABX9TyOWct2K3Vl7sctVmaUyN2X8",
      "include_colab_link": true
    },
    "kernelspec": {
      "name": "python3",
      "display_name": "Python 3"
    },
    "language_info": {
      "name": "python"
    }
  },
  "cells": [
    {
      "cell_type": "markdown",
      "metadata": {
        "id": "view-in-github",
        "colab_type": "text"
      },
      "source": [
        "<a href=\"https://colab.research.google.com/github/nhatruc3010/CMPE172/blob/master/PLA_and_Pocket.ipynb\" target=\"_parent\"><img src=\"https://colab.research.google.com/assets/colab-badge.svg\" alt=\"Open In Colab\"/></a>"
      ]
    },
    {
      "cell_type": "code",
      "execution_count": 2,
      "metadata": {
        "colab": {
          "base_uri": "https://localhost:8080/"
        },
        "id": "OI-RL-mrC-U3",
        "outputId": "21dab837-ee4d-41d2-ded1-3aa1fe5850fd"
      },
      "outputs": [
        {
          "output_type": "execute_result",
          "data": {
            "text/plain": [
              "-1"
            ]
          },
          "metadata": {},
          "execution_count": 2
        }
      ],
      "source": [
        "import csv\n",
        "import pandas as pd\n",
        "\n",
        "df = pd.read_csv('synthetic_dataset.csv')\n",
        "\n",
        "def get_sign(x, w):\n",
        "  dotp = x[0]*w[0] + x[1]*w[1] + x[2]*w[2]\n",
        "  return sign(dotp)\n",
        "\n",
        "def sign(dotp):\n",
        "  if dotp>=0:\n",
        "    return 1\n",
        "  else:\n",
        "    return -1\n",
        "\n",
        "w = [1,1,1]\n",
        "get_sign(df.iloc[6],w)\n"
      ]
    }
  ]
}